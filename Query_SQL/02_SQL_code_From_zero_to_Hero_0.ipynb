{
 "cells": [
  {
   "cell_type": "markdown",
   "id": "f0f0d4cf",
   "metadata": {
    "papermill": {
     "duration": 0.007468,
     "end_time": "2024-10-25T18:37:51.879724",
     "exception": false,
     "start_time": "2024-10-25T18:37:51.872256",
     "status": "completed"
    },
    "tags": []
   },
   "source": [
    "# Introduction"
   ]
  },
  {
   "cell_type": "markdown",
   "id": "2af2e9b5",
   "metadata": {},
   "source": [
    "## Database = base de données :\n",
    "c' est une collection des informations structurée stocker dans un systeme d'ordinateur"
   ]
  },
  {
   "cell_type": "markdown",
   "id": "49188aee",
   "metadata": {},
   "source": [
    "SQL:"
   ]
  },
  {
   "cell_type": "markdown",
   "id": "c58fda7a",
   "metadata": {},
   "source": [
    "# Syntax"
   ]
  },
  {
   "cell_type": "code",
   "execution_count": null,
   "id": "7fbc01f2",
   "metadata": {
    "notebookRunGroups": {
     "groupValue": "2"
    }
   },
   "outputs": [],
   "source": [
    "SELECT column1,column2,column3,...  # selectionner les colonnes   column1,column2,column3,...\n",
    "From table_name;                    # se connecterà la table ayant les colonnes  column1,column2,column3,..."
   ]
  },
  {
   "cell_type": "code",
   "execution_count": null,
   "id": "0fbbef01",
   "metadata": {},
   "outputs": [],
   "source": [
    "SELECT *  # selectionner toutes les colonnes From table_name;  à partir de la table table_name"
   ]
  },
  {
   "cell_type": "markdown",
   "id": "2d04130c",
   "metadata": {},
   "source": [
    "# Exercice sur la table players01"
   ]
  },
  {
   "cell_type": "markdown",
   "id": "45d78905",
   "metadata": {},
   "source": [
    "## Question 1 \n",
    "    selectionner toutes les colonnes de la table players01"
   ]
  },
  {
   "cell_type": "code",
   "execution_count": null,
   "id": "125d6761",
   "metadata": {},
   "outputs": [],
   "source": [
    "SELECT * from players01;      # commande SQL qui reponds à la question"
   ]
  },
  {
   "cell_type": "markdown",
   "id": "d9920404",
   "metadata": {},
   "source": [
    "# Question 2\n",
    "    Selectionner la colonne players_id de la table players01\n",
    "    Selectionner la colonne first_name de la table players01\n",
    "    Selectionner la colonne last_name de la table players01\n",
    "    Selectionner la colonne team de la table players01\n",
    "    Selectionner la colonne shirt_number de la table players01\n",
    "    Selectionner la colonne rating de la table players01"
   ]
  },
  {
   "cell_type": "code",
   "execution_count": null,
   "id": "085a9af7",
   "metadata": {},
   "outputs": [],
   "source": [
    "SELECT player_id            # commande SQL  pour selectionner la colonne players_id\n",
    "from players01;             # commande SQL  pour selectionner la table players01 ayant la colonne  players_id"
   ]
  },
  {
   "cell_type": "code",
   "execution_count": null,
   "id": "4a250e7f",
   "metadata": {},
   "outputs": [],
   "source": [
    "SELECT first_name            # commande SQL  pour selectionner la colonne first_name\n",
    "from players01;              # commande SQL  pour selectionner la table players01 ayant la colonne  first_name"
   ]
  },
  {
   "cell_type": "code",
   "execution_count": null,
   "id": "58c6f5ae",
   "metadata": {},
   "outputs": [],
   "source": [
    "SELECT last_name            # commande SQL  pour selectionner la colonne last_name \n",
    "from players01;              # commande SQL  pour selectionner la table players01 ayant la colonne  last_name "
   ]
  },
  {
   "cell_type": "code",
   "execution_count": null,
   "id": "768e0084",
   "metadata": {},
   "outputs": [],
   "source": [
    "SELECT team           # commande SQL  pour selectionner la colonne team\n",
    "from players01;              # commande SQL  pour selectionner la table players01 ayant la colonne  team"
   ]
  },
  {
   "cell_type": "code",
   "execution_count": null,
   "id": "f5d687ab",
   "metadata": {},
   "outputs": [],
   "source": [
    "SELECT shirt_number            # commande SQL  pour selectionner la colonne shirt_number \n",
    "from players01;              # commande SQL  pour selectionner la table players01 ayant la colonne  shirt_number "
   ]
  },
  {
   "cell_type": "code",
   "execution_count": null,
   "id": "7368051c",
   "metadata": {},
   "outputs": [],
   "source": [
    "SELECT rating               # commande SQL  pour selectionner la colonne rating\n",
    "from players01;             # commande SQL  pour selectionner la table players01 ayant la colonne  rating"
   ]
  },
  {
   "cell_type": "markdown",
   "id": "f6145a08",
   "metadata": {},
   "source": [
    "# Question 3\n",
    "    Selectionner les colonnes players_id et first_name  de la table players01\n",
    "    Selectionner les colonnes team et rating de la table players01\n",
    "    Selectionner les colonnes team, rating et last_name de la table players01\n",
    "    Selectionner les colonnes team,rating,shirt_number de la table players01\n",
    "    Selectionner les colonnes team,rating,first_name de la table players01\n",
    "    Selectionner les colonnes player_id,team,rating de la table players01\n"
   ]
  },
  {
   "cell_type": "code",
   "execution_count": null,
   "id": "5b4855cc",
   "metadata": {},
   "outputs": [],
   "source": [
    "SELECT player_id,first_name     # commande SQL  pour selectionner les colonnes players_id et first_name \n",
    "from players01;                 # commande SQL  pour selectionner la table players01 ayant les colonnes players_id et first_name "
   ]
  },
  {
   "cell_type": "code",
   "execution_count": null,
   "id": "26d3de44",
   "metadata": {},
   "outputs": [],
   "source": [
    "SELECT team,rating           # commande SQL  pour selectionner les colonnes team et rating de la table players01\n",
    "from players01;              # commande SQL  pour selectionner la table players01 ayant les colonnes team et rating de la table players01"
   ]
  },
  {
   "cell_type": "code",
   "execution_count": null,
   "id": "e0a1db8b",
   "metadata": {},
   "outputs": [],
   "source": [
    "SELECT team,rating, last_name          # commande SQL  pour selectionner les colonnes team, rating et last_name de la table players01\n",
    "from players01;              # commande SQL  pour selectionner la table players01 ayant les colonnes team, rating et last_name de la table players01"
   ]
  },
  {
   "cell_type": "code",
   "execution_count": null,
   "id": "89f699ae",
   "metadata": {},
   "outputs": [],
   "source": [
    "SELECT team,rating,shirt_number          # commande SQL  pour selectionner les colonnes team,rating,shirt_number de la table players01\n",
    "from players01;              # commande SQL  pour selectionner la table players01 ayant les colonnes team,rating,shirt_numberde la table players01"
   ]
  },
  {
   "cell_type": "code",
   "execution_count": null,
   "id": "85bf106c",
   "metadata": {},
   "outputs": [],
   "source": [
    "SELECT team,rating,first_name         # commande SQL  pour selectionner les colonnes team,rating,first_name de la table players01\n",
    "from players01;              # commande SQL  pour selectionner la table players01 ayant les colonnes team,rating,first_name de la table players01"
   ]
  },
  {
   "cell_type": "code",
   "execution_count": null,
   "id": "c2ec4124",
   "metadata": {},
   "outputs": [],
   "source": [
    "SELECT player_id,team,rating           # commande SQL  pour selectionner les colonnes  player_id,team,rating de la table players01\n",
    "from players01;              # commande SQL  pour selectionner la table players01 ayant les colonnes  player_id,team,rating de la table players01"
   ]
  },
  {
   "cell_type": "markdown",
   "id": "f4076fb2",
   "metadata": {},
   "source": [
    "# Syntax of select distinct"
   ]
  },
  {
   "cell_type": "code",
   "execution_count": null,
   "id": "f3caff42",
   "metadata": {},
   "outputs": [],
   "source": [
    "SELECT DISTINCT column             # selectionner les colonnes   column\n",
    "From table_name;                   # se connecterà la table ayant les colonnes  column"
   ]
  },
  {
   "cell_type": "markdown",
   "id": "bd0d14c7",
   "metadata": {},
   "source": [
    "# Question 4\n",
    "    selectionner les id distinct de la table players01\n",
    "    selectionner les teams distinct de la table players01\n",
    "    selectionner  et compter le nombre de teams distinct de la table players01\n"
   ]
  },
  {
   "cell_type": "code",
   "execution_count": null,
   "id": "5d4dda10",
   "metadata": {},
   "outputs": [],
   "source": [
    "SELECT DISTINCT player_id\n",
    "from players01;"
   ]
  },
  {
   "cell_type": "code",
   "execution_count": null,
   "id": "ddfc5c15",
   "metadata": {},
   "outputs": [],
   "source": [
    "SELECT DISTINCT team\n",
    "from players01;"
   ]
  },
  {
   "cell_type": "code",
   "execution_count": null,
   "id": "3ce0c0bc",
   "metadata": {},
   "outputs": [],
   "source": [
    "SELECT COUNT( DISTINCT team)\n",
    "from players01;"
   ]
  },
  {
   "cell_type": "markdown",
   "id": "c50d7fb3",
   "metadata": {},
   "source": [
    "## Question 5\n",
    "    selectionner le player qui à un player_id = 1 de la table players01\n",
    "    selectionner le first_name du player qui à un player_id = 1 de la table players01\n",
    "    selectionner le player_id  du player qui à un first_name = Ahmed de la table players01\n"
   ]
  },
  {
   "cell_type": "code",
   "execution_count": null,
   "id": "20a9a2f6",
   "metadata": {},
   "outputs": [],
   "source": [
    "SELECT *\n",
    "from players01\n",
    "WHERE player_id = 1;"
   ]
  },
  {
   "cell_type": "code",
   "execution_count": null,
   "id": "0a3669fe",
   "metadata": {},
   "outputs": [],
   "source": [
    "SELECT player_id,first_name\n",
    "from players01\n",
    "WHERE player_id = 1;"
   ]
  },
  {
   "cell_type": "code",
   "execution_count": null,
   "id": "accd3128",
   "metadata": {},
   "outputs": [],
   "source": [
    "SELECT player_id,first_name\n",
    "from players01\n",
    "WHERE first_name ='Ahmed';"
   ]
  },
  {
   "cell_type": "markdown",
   "id": "e440798b",
   "metadata": {},
   "source": [
    "## Question 6\n",
    "\n",
    "    Selectionner le id ,le prenom et lequipe du player de la table players01 ayant le numero de shirt == 1 et le rating = 90\n",
    "    Selectionner le id ,le prenom et lequipe du player de la table players01 ayant le numero de shirt == 1 et le rating = 99\n",
    "         (juste pour montrer que si l'une des conditions n'estpas rempli alors la requête renvoi un vide pour signifier qu'une des conditions n'est pas repectée)\n",
    "    Selectionner le id ,le prenom lequipe et le shirt_number du player de la table players01 ayant le numero de shirt == 1 ou le rating = 99\n",
    "    Selectionner le id ,le prenom lequipe et le shirt_number du player de la table players01 ayant le numero de shirt different de 1\n",
    "\n"
   ]
  },
  {
   "cell_type": "code",
   "execution_count": null,
   "id": "94de095c",
   "metadata": {},
   "outputs": [],
   "source": [
    "SELECT player_id,first_name,team\n",
    "from players01\n",
    "WHERE shirt_number = 1 AND rating = 90;"
   ]
  },
  {
   "cell_type": "code",
   "execution_count": null,
   "id": "410b7d41",
   "metadata": {},
   "outputs": [],
   "source": [
    "SELECT player_id,first_name,team\n",
    "from players01\n",
    "WHERE shirt_number = 1 AND rating = 99;"
   ]
  },
  {
   "cell_type": "code",
   "execution_count": null,
   "id": "5d60082c",
   "metadata": {},
   "outputs": [],
   "source": [
    "SELECT player_id,first_name,team,shirt_number\n",
    "from players01\n",
    "WHERE shirt_number = 1 OR rating = 99;"
   ]
  },
  {
   "cell_type": "code",
   "execution_count": null,
   "id": "503afcf9",
   "metadata": {},
   "outputs": [],
   "source": [
    "SELECT player_id,first_name,team,shirt_number\n",
    "from players01\n",
    "WHERE not shirt_number = 1;"
   ]
  },
  {
   "cell_type": "markdown",
   "id": "d0ea1476",
   "metadata": {},
   "source": [
    "## Question 7\n",
    "    Selctionner les columns player_id, first_name et rating et renommer les resptivement par p_id, fname et news_rate\n",
    "    Combiner deux colonnes sans espace\n",
    "    Combiner deux colonnes avec espace\n",
    "    Selctionner les columns player_id, full_name de la table players01"
   ]
  },
  {
   "cell_type": "code",
   "execution_count": null,
   "id": "0d55c546",
   "metadata": {},
   "outputs": [],
   "source": [
    "SELECT player_id AS p_id,first_name AS fname,rating AS news_rate\n",
    "from players01;                                                                                                                 "
   ]
  },
  {
   "cell_type": "code",
   "execution_count": null,
   "id": "1fb98d58",
   "metadata": {},
   "outputs": [],
   "source": [
    "select first_name || '' || last_name AS full_name\n",
    "from players01;"
   ]
  },
  {
   "cell_type": "code",
   "execution_count": null,
   "id": "760964ab",
   "metadata": {},
   "outputs": [],
   "source": [
    "select first_name || '...' || last_name AS full_name\n",
    "from players01;"
   ]
  },
  {
   "cell_type": "code",
   "execution_count": null,
   "id": "cfb0e722",
   "metadata": {},
   "outputs": [],
   "source": [
    "select player_id,first_name || '....' || last_name AS full_name\n",
    "from players01;"
   ]
  },
  {
   "cell_type": "markdown",
   "id": "162fed41",
   "metadata": {},
   "source": [
    "## Question 8\n",
    "    Selectionne toutes les colonnes du tableau players01 en se limitant à deux enregistrements\n",
    "    Selectionne toutes les colonnes du tableau players01 en se limitant à cinq enregistrements\n",
    "    Selectionne toutes les colonnes du tableau players01 où la team = Lion Team en se limitant à deux enregistrements\n",
    "\n"
   ]
  },
  {
   "cell_type": "code",
   "execution_count": null,
   "id": "4a9ab174",
   "metadata": {},
   "outputs": [],
   "source": [
    "SELECT * from players01\n",
    "limit 2;"
   ]
  },
  {
   "cell_type": "code",
   "execution_count": null,
   "id": "6696d4ae",
   "metadata": {},
   "outputs": [],
   "source": [
    "SELECT * from players01\n",
    "limit 5;"
   ]
  },
  {
   "cell_type": "code",
   "execution_count": null,
   "id": "f176dcfc",
   "metadata": {},
   "outputs": [],
   "source": [
    "SELECT * from players01\n",
    "WHERE team = 'Lion Team'\n",
    "limit 2;"
   ]
  },
  {
   "cell_type": "markdown",
   "id": "9d59bb46",
   "metadata": {},
   "source": [
    "## Question 9"
   ]
  },
  {
   "cell_type": "code",
   "execution_count": null,
   "id": "39e7b534",
   "metadata": {},
   "outputs": [],
   "source": [
    "insert into players01(player_id,first_name,last_name,team,shirt_number,rating)\n",
    "VALUES(10,'Rodolphe','le roda','Tiger Team',12,93);"
   ]
  },
  {
   "cell_type": "markdown",
   "id": "1351b649",
   "metadata": {},
   "source": [
    "## Question 10"
   ]
  },
  {
   "cell_type": "code",
   "execution_count": null,
   "id": "26f9669d",
   "metadata": {},
   "outputs": [],
   "source": [
    "INSERT INTO players01\n",
    "VALUES(11,'chrisma','loko','Tiger Team',9,91);"
   ]
  },
  {
   "cell_type": "markdown",
   "id": "2beda4fa",
   "metadata": {},
   "source": [
    "## Question 11\n"
   ]
  },
  {
   "cell_type": "code",
   "execution_count": null,
   "id": "a94eedc8",
   "metadata": {},
   "outputs": [],
   "source": [
    "insert into players01(player_id,first_name,rating)\n",
    "VALUES(10,'Eric',93);"
   ]
  },
  {
   "cell_type": "markdown",
   "id": "cb26bd42",
   "metadata": {},
   "source": [
    "## Question 12"
   ]
  },
  {
   "cell_type": "code",
   "execution_count": null,
   "id": "fcd0db70",
   "metadata": {},
   "outputs": [],
   "source": [
    "insert into players01(player_id,first_name,last_name,team,shirt_number,rating)\n",
    "VALUES\n",
    "(13,'fname1','lname1','new Team',1,90),\n",
    "(14,'fname2','lname2','new Team',2,91),\n",
    "(15,'fname3','lname3','new Team',3,93);"
   ]
  },
  {
   "cell_type": "markdown",
   "id": "ed5bf27c",
   "metadata": {},
   "source": [
    "## Question 13\n",
    "\n",
    "    mettre à jour le tableau players01 \n",
    "    changer le fist_name du joueur de la table players01 qui a pour playeur_id = 15\n",
    "    en Belvie"
   ]
  },
  {
   "cell_type": "code",
   "execution_count": null,
   "id": "93c2b4b1",
   "metadata": {},
   "outputs": [],
   "source": [
    "UPDATE players01\n",
    "set first_name = 'Belvie'\n",
    "WHERE player_id = 15;\n",
    "\n",
    "# Taper la commande suivante pour échiffer le resultat\n",
    "\n",
    "SELECT *\n",
    "FROM players01;"
   ]
  },
  {
   "cell_type": "code",
   "execution_count": null,
   "id": "73efaee4",
   "metadata": {},
   "outputs": [],
   "source": [
    "UPDATE players01\n",
    "set first_name = 'Belvie', last_name = 'manée'\n",
    "WHERE player_id = 15;"
   ]
  },
  {
   "cell_type": "code",
   "execution_count": null,
   "id": "1e590079",
   "metadata": {},
   "outputs": [],
   "source": [
    "UPDATE players01\n",
    "set first_name = 'Belvie', last_name = 'manée'\n",
    "WHERE player_id = 15;"
   ]
  },
  {
   "cell_type": "code",
   "execution_count": null,
   "id": "d8e11559",
   "metadata": {},
   "outputs": [],
   "source": [
    "SELECT *\n",
    "from players01;"
   ]
  },
  {
   "cell_type": "markdown",
   "id": "2689e7cb",
   "metadata": {},
   "source": [
    "# Question 14 :\n",
    "\n",
    "    mettre à jours toutes les lignes de la table à \n"
   ]
  },
  {
   "cell_type": "code",
   "execution_count": null,
   "id": "add29037",
   "metadata": {},
   "outputs": [],
   "source": [
    "UPDATE players01\n",
    "set first_name = 'Mohamed', last_name = 'Salah';"
   ]
  },
  {
   "cell_type": "markdown",
   "id": "6e52cb55",
   "metadata": {},
   "source": [
    "# Hands on deleting records \n",
    "\n",
    "     effacer la dernière ligne du tableau\n",
    "     effacer toutes les lignes du tableau"
   ]
  },
  {
   "cell_type": "code",
   "execution_count": null,
   "id": "504f76dd",
   "metadata": {},
   "outputs": [],
   "source": [
    "# pour supprimer\n",
    "DELETE from players01\n",
    "WHERE player_id = 15;\n",
    "\n",
    "\n",
    "# pour voir le resultat\n",
    "select * from players01;"
   ]
  },
  {
   "cell_type": "code",
   "execution_count": null,
   "id": "39c875f7",
   "metadata": {},
   "outputs": [],
   "source": [
    "# pour supprimer toutes les lignes\n",
    "DELETE from players01;\n",
    "\n",
    "\n",
    "# pour voir le resultat\n",
    "select * from players01;"
   ]
  },
  {
   "cell_type": "code",
   "execution_count": null,
   "id": "4f42d8c3",
   "metadata": {},
   "outputs": [],
   "source": [
    "\n",
    "# pour suprimer las lignes de la table demo avec la fonction truncate table\n",
    "TRUNCATE TABLE demo;\n",
    "\n",
    "# pour verifier le résultat\n",
    "SELECT * from demo;"
   ]
  },
  {
   "cell_type": "markdown",
   "id": "49291f0f",
   "metadata": {},
   "source": [
    "# Commments"
   ]
  },
  {
   "cell_type": "code",
   "execution_count": null,
   "id": "787d0d49",
   "metadata": {},
   "outputs": [],
   "source": [
    "--SELECT * FROM players01;"
   ]
  },
  {
   "cell_type": "code",
   "execution_count": null,
   "id": "4f0271dd",
   "metadata": {},
   "outputs": [],
   "source": [
    "--SELECT * FROM players01;\n",
    "SELECT * FROM players01; \n"
   ]
  },
  {
   "cell_type": "code",
   "execution_count": null,
   "id": "31b994f8",
   "metadata": {},
   "outputs": [],
   "source": [
    "SELECT * FROM players01; --SELECT * FROM players01;\n"
   ]
  },
  {
   "cell_type": "code",
   "execution_count": null,
   "id": "5cb57a29",
   "metadata": {},
   "outputs": [],
   "source": [
    "/*SELECT * FROM players01;\n",
    "SELECT * FROM players01; --SELECT * FROM players01;*/\n"
   ]
  },
  {
   "cell_type": "markdown",
   "id": "d6046df3",
   "metadata": {},
   "source": [
    "# Hands-on SQL Arithmetical operators"
   ]
  },
  {
   "cell_type": "code",
   "execution_count": null,
   "id": "f90a5f4d",
   "metadata": {},
   "outputs": [],
   "source": [
    "SELECT  202 + 100 as newresult;   addition\n",
    "\n",
    "SELECT  202 - 100 as newresult; soustraction\n",
    "\n",
    "SELECT  202*100 as newresult; multiplication\n",
    "\n",
    "SELECT  202/100 as newresult; division\n",
    "\n",
    "SELECT  202%100 as newresult; modulo(division euclidienne)\n",
    "\n",
    "\n"
   ]
  },
  {
   "cell_type": "markdown",
   "id": "8815af6b",
   "metadata": {},
   "source": [
    "# Hands -on SQL logical operators"
   ]
  },
  {
   "cell_type": "code",
   "execution_count": null,
   "id": "d9923244",
   "metadata": {},
   "outputs": [],
   "source": [
    "SELECT 10 > 2  AS newresult ; 10 superieur à 2 ?\n",
    "\n",
    "--SELECT 10 < 2  AS newresult ; 10 inférieure à 2 ?\n",
    "\n",
    "--SELECT 10 = 2  AS newresult ; 10 est égal à 2 ?\n",
    "\n",
    "--SELECT 10 <= 2  AS newresult ; 10 est inferieure ou égal à 2 \n",
    "\n",
    "--SELECT 10 <> 2  AS newresult ; 10 est different de 2 "
   ]
  },
  {
   "cell_type": "code",
   "execution_count": null,
   "id": "7434e331",
   "metadata": {},
   "outputs": [],
   "source": [
    "select *\n",
    "from players01\n",
    "WHERE player_id < 3;"
   ]
  },
  {
   "cell_type": "markdown",
   "id": "54799bd2",
   "metadata": {},
   "source": [
    "# Hands- on SQL BETWEEN and IN operators"
   ]
  },
  {
   "cell_type": "code",
   "execution_count": null,
   "id": "915b2699",
   "metadata": {},
   "outputs": [],
   "source": [
    "select *\n",
    "from players01\n",
    "WHERE player_id BETWEEN 2 AND 5; # il selectionne les éléments entre 2 et 5 [2,3,4,5] avec 2 et 5 compris"
   ]
  },
  {
   "cell_type": "code",
   "execution_count": null,
   "id": "f4082169",
   "metadata": {},
   "outputs": [],
   "source": [
    "select *\n",
    "from players01\n",
    "WHERE player_id BETWEEN 5 AND 8;  # il selectionne les éléments entre 5 et 8 [5,6,7,8] avec 5 et 8 compris"
   ]
  },
  {
   "cell_type": "code",
   "execution_count": null,
   "id": "3df1ffc4",
   "metadata": {},
   "outputs": [],
   "source": [
    "select *\n",
    "from players01\n",
    "WHERE player_id in (3, 5); # il selectionne les éléments 3 et 5  uniquement [3,5] "
   ]
  },
  {
   "cell_type": "code",
   "execution_count": null,
   "id": "c76c6eac",
   "metadata": {},
   "outputs": [],
   "source": [
    "select *\n",
    "from players01\n",
    "WHERE player_id in (5, 9); # il selectionne les éléments 5 et 9  uniquement [5,9] "
   ]
  },
  {
   "cell_type": "code",
   "execution_count": null,
   "id": "cca92048",
   "metadata": {},
   "outputs": [],
   "source": [
    "select *\n",
    "from players01\n",
    "WHERE team in ('Lion Team','Tiger Team'); # prends toutes les lignes ou il y a soit Lion Team ou Tiger Team dans la colonne team du tableau players01m,"
   ]
  }
 ],
 "metadata": {
  "kaggle": {
   "accelerator": "none",
   "dataSources": [
    {
     "datasetId": 22090,
     "sourceId": 28376,
     "sourceType": "datasetVersion"
    },
    {
     "datasetId": 6057,
     "sourceId": 285982,
     "sourceType": "datasetVersion"
    }
   ],
   "isGpuEnabled": false,
   "isInternetEnabled": false,
   "language": "python",
   "sourceType": "notebook"
  },
  "kernelspec": {
   "display_name": "Python 3",
   "language": "python",
   "name": "python3"
  },
  "language_info": {
   "codemirror_mode": {
    "name": "ipython",
    "version": 3
   },
   "file_extension": ".py",
   "mimetype": "text/x-python",
   "name": "python",
   "nbconvert_exporter": "python",
   "pygments_lexer": "ipython3",
   "version": "3.10.12"
  },
  "papermill": {
   "default_parameters": {},
   "duration": 15.151782,
   "end_time": "2024-10-25T18:38:03.588349",
   "environment_variables": {},
   "exception": null,
   "input_path": "__notebook__.ipynb",
   "output_path": "__notebook__.ipynb",
   "parameters": {},
   "start_time": "2024-10-25T18:37:48.436567",
   "version": "2.6.0"
  }
 },
 "nbformat": 4,
 "nbformat_minor": 5
}
