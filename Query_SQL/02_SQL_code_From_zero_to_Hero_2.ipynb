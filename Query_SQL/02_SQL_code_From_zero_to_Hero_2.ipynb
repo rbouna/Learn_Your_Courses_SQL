{
 "cells": [
  {
   "cell_type": "markdown",
   "metadata": {},
   "source": [
    "# CREATE DATABASE AND CREATE TABLE"
   ]
  },
  {
   "cell_type": "markdown",
   "metadata": {},
   "source": [
    "## creation de la table fruits"
   ]
  },
  {
   "cell_type": "code",
   "execution_count": null,
   "metadata": {},
   "outputs": [],
   "source": [
    "CREATE TABLE fruits(\n",
    "  fruit_id serial PRIMARY KEY,\n",
    "  fruit_name VARCHAR(50) not NULL,\n",
    "  fruit_code VARCHAR(10) NOT NULL\n",
    " );"
   ]
  },
  {
   "cell_type": "markdown",
   "metadata": {},
   "source": [
    "## insertion des valeurs "
   ]
  },
  {
   "cell_type": "code",
   "execution_count": null,
   "metadata": {},
   "outputs": [],
   "source": [
    "INSERT INTO fruits(fruit_name,fruit_code)\n",
    " VALUES\n",
    " ('Apple','AP01'),\n",
    " ('Banana','BA01'),\n",
    " ('Orange','OR01');"
   ]
  }
 ],
 "metadata": {
  "kernelspec": {
   "display_name": "Python 3",
   "language": "python",
   "name": "python3"
  },
  "language_info": {
   "codemirror_mode": {
    "name": "ipython",
    "version": 3
   },
   "file_extension": ".py",
   "mimetype": "text/x-python",
   "name": "python",
   "nbconvert_exporter": "python",
   "pygments_lexer": "ipython3",
   "version": "3.10.12"
  }
 },
 "nbformat": 4,
 "nbformat_minor": 2
}
