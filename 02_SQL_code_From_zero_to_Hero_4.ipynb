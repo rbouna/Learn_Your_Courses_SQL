{
 "cells": [
  {
   "cell_type": "markdown",
   "metadata": {},
   "source": [
    "# The Concept of Function\n",
    "    Perform tasks and actions\n",
    "    Accepts parameters\n",
    "    Returns a single salue or a table\n",
    "    Replicate the common task easily"
   ]
  },
  {
   "cell_type": "markdown",
   "metadata": {},
   "source": [
    "# Aggregation Functions\n",
    "\n",
    "    To do operations from the values of the column and single value is returned\n",
    "\n",
    "    AVG() : returns the overage value after calculating from value in numeric column\n",
    "    COUNT() : counts the number of rows returned in a selected statement\n",
    "    FIRST() : eturns the First value of the selected column\n",
    "    LAST() : returns the last value of the selected column(only in MS ACCES)\n",
    "    MAX() : returns the maximun value of the selected column\n",
    "    MIN() : returns the minimun value of the selected column\n",
    "    SUM() : returns the sum of all the values of the selected column"
   ]
  },
  {
   "cell_type": "markdown",
   "metadata": {},
   "source": [
    "# SCALAIRE FUNCTIONS\n",
    "    Based on input, returns single value\n",
    "\n",
    "    ucase : converts the value of a field to uppercase\n",
    "    Lcase : converts the value of a field to lowercase\n",
    "    MID :  extracts tests from the text field\n",
    "    LEN : returns the length of the value in a text field\n",
    "    ROUND() : rounds a numeric field to the number of decimals specifield \n",
    "    NOW() : returns the current systement date and time\n",
    "    Format() : formats how a field is to be displayed"
   ]
  },
  {
   "cell_type": "markdown",
   "metadata": {},
   "source": [
    "# hands_on functions SQL"
   ]
  },
  {
   "cell_type": "code",
   "execution_count": null,
   "metadata": {},
   "outputs": [],
   "source": [
    "SELECT avg(rating)\n",
    "FROM players01;"
   ]
  },
  {
   "cell_type": "code",
   "execution_count": null,
   "metadata": {},
   "outputs": [],
   "source": [
    "SELECT avg(rating)  as average_rating\n",
    "FROM players01;"
   ]
  },
  {
   "cell_type": "code",
   "execution_count": null,
   "metadata": {},
   "outputs": [],
   "source": [
    "SELECT COUNT(employee_id)\n",
    "from employees;"
   ]
  },
  {
   "cell_type": "code",
   "execution_count": null,
   "metadata": {},
   "outputs": [],
   "source": [
    "SELECT COUNT(employee_id) as em_count\n",
    "from employees;"
   ]
  },
  {
   "cell_type": "code",
   "execution_count": null,
   "metadata": {},
   "outputs": [],
   "source": [
    "SELECT COUNT(*) as em_count\n",
    "from employees;"
   ]
  },
  {
   "cell_type": "code",
   "execution_count": null,
   "metadata": {},
   "outputs": [],
   "source": [
    "SELECT max(rating) as biggest_rating\n",
    "from players01;"
   ]
  },
  {
   "cell_type": "code",
   "execution_count": null,
   "metadata": {},
   "outputs": [],
   "source": [
    "SELECT MIN(rating) as smallest_rating\n",
    "from players01;"
   ]
  },
  {
   "cell_type": "code",
   "execution_count": null,
   "metadata": {},
   "outputs": [],
   "source": [
    "SELECT LOWER(first_name) as lower_case\n",
    "FROM players01;"
   ]
  },
  {
   "cell_type": "code",
   "execution_count": null,
   "metadata": {},
   "outputs": [],
   "source": [
    "SELECT UPPER(first_name) as upper_case\n",
    "FROM players01;"
   ]
  },
  {
   "cell_type": "code",
   "execution_count": null,
   "metadata": {},
   "outputs": [],
   "source": [
    "SELECT REVERSE (job) as reverse_jobs\n",
    "FROM employees;"
   ]
  },
  {
   "cell_type": "code",
   "execution_count": null,
   "metadata": {},
   "outputs": [],
   "source": [
    "\n",
    "SELECT LENGTH (first_name) as first_name_length\n",
    "FROM players01;"
   ]
  }
 ],
 "metadata": {
  "kernelspec": {
   "display_name": "Python 3",
   "language": "python",
   "name": "python3"
  },
  "language_info": {
   "codemirror_mode": {
    "name": "ipython",
    "version": 3
   },
   "file_extension": ".py",
   "mimetype": "text/x-python",
   "name": "python",
   "nbconvert_exporter": "python",
   "pygments_lexer": "ipython3",
   "version": "3.10.12"
  }
 },
 "nbformat": 4,
 "nbformat_minor": 2
}
