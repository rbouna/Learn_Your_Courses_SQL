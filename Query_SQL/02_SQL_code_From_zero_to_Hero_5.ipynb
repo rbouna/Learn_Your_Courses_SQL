{
 "cells": [
  {
   "cell_type": "markdown",
   "metadata": {},
   "source": [
    "# JOINS SQL"
   ]
  },
  {
   "cell_type": "markdown",
   "metadata": {},
   "source": [
    "#  Inner Join:"
   ]
  },
  {
   "cell_type": "markdown",
   "metadata": {},
   "source": [
    "## inner join hands-on"
   ]
  },
  {
   "cell_type": "code",
   "execution_count": null,
   "metadata": {},
   "outputs": [],
   "source": [
    "SELECT players01.player_id, employees.first_name\n",
    "fROM players01\n",
    "INNER JOIN employees\n",
    "ON  players01.player_id = employees.employee_id;"
   ]
  },
  {
   "cell_type": "code",
   "execution_count": null,
   "metadata": {},
   "outputs": [],
   "source": [
    "SELECT pl.player_id, em.first_name\n",
    "fROM players01 AS pl\n",
    "INNER JOIN employees as em\n",
    "ON  pl.player_id = em.employee_id;"
   ]
  },
  {
   "cell_type": "markdown",
   "metadata": {},
   "source": [
    "# Lelft Join "
   ]
  },
  {
   "cell_type": "markdown",
   "metadata": {},
   "source": [
    "## Lelft Join hands-on"
   ]
  },
  {
   "cell_type": "code",
   "execution_count": null,
   "metadata": {},
   "outputs": [],
   "source": [
    "SELECT players01.player_id, players01.last_name, employees.first_name\n",
    "fROM players01 \n",
    "LEFT JOIN employees \n",
    "ON  players01.player_id = employees.employee_id;"
   ]
  },
  {
   "cell_type": "markdown",
   "metadata": {},
   "source": [
    "SELECT pl.player_id, pl.last_name, em.first_name\n",
    "fROM players01 AS pl\n",
    "LEFT JOIN employees as em\n",
    "ON  pl.player_id = em.employee_id;"
   ]
  },
  {
   "cell_type": "code",
   "execution_count": null,
   "metadata": {},
   "outputs": [],
   "source": [
    "SELECT pl.player_id, pl.first_name,pl.last_name,em.first_name\n",
    "fROM players01 AS pl\n",
    "LEFT JOIN employees as em\n",
    "ON  pl.player_id = em.employee_id\n",
    "ORDER by pl.first_name;\n"
   ]
  },
  {
   "cell_type": "markdown",
   "metadata": {},
   "source": [
    "# Right Join"
   ]
  },
  {
   "cell_type": "markdown",
   "metadata": {},
   "source": [
    "## Right Join hands-on"
   ]
  },
  {
   "cell_type": "code",
   "execution_count": null,
   "metadata": {},
   "outputs": [],
   "source": [
    "SELECT pl.player_id, pl.first_name,pl.last_name,em.first_name, em.job\n",
    "fROM players01 AS pl\n",
    "RIGHT JOIN employees as em\n",
    "ON  pl.player_id = em.employee_id\n",
    "ORDER by em.first_name;"
   ]
  },
  {
   "cell_type": "markdown",
   "metadata": {},
   "source": [
    "# Full outer Join"
   ]
  },
  {
   "cell_type": "markdown",
   "metadata": {},
   "source": [
    "## Full outer Join hands- on"
   ]
  },
  {
   "cell_type": "code",
   "execution_count": null,
   "metadata": {},
   "outputs": [],
   "source": [
    "SELECT pl.player_id, pl.first_name,pl.last_name,em.first_name, em.job\n",
    "fROM players01 AS pl\n",
    "FULL OUTER JOIN employees as em\n",
    "ON  pl.player_id = em.employee_id;"
   ]
  },
  {
   "cell_type": "code",
   "execution_count": null,
   "metadata": {},
   "outputs": [],
   "source": [
    "SELECT pl.player_id, pl.first_name,pl.last_name,em.first_name, em.job\n",
    "fROM players01 AS pl\n",
    "FULL  JOIN employees as em\n",
    "ON  pl.player_id = em.employee_id;"
   ]
  },
  {
   "cell_type": "markdown",
   "metadata": {},
   "source": [
    "# Views (virtuel tables)"
   ]
  },
  {
   "cell_type": "code",
   "execution_count": null,
   "metadata": {},
   "outputs": [],
   "source": [
    "CREATE VIEW some_players AS\n",
    "SELECT player_id, first_name, rating\n",
    "from players01\n",
    "WHERE rating > 90;"
   ]
  },
  {
   "cell_type": "code",
   "execution_count": null,
   "metadata": {},
   "outputs": [],
   "source": [
    "select * \n",
    "from some_players"
   ]
  },
  {
   "cell_type": "markdown",
   "metadata": {},
   "source": [
    "## CREATE or REPLACE VIEW bay change the condition"
   ]
  },
  {
   "cell_type": "code",
   "execution_count": null,
   "metadata": {},
   "outputs": [],
   "source": [
    "CREATE or REPLACE VIEW some_players AS\n",
    "SELECT player_id, first_name, rating\n",
    "from players01\n",
    "WHERE rating > 91;"
   ]
  },
  {
   "cell_type": "code",
   "execution_count": null,
   "metadata": {},
   "outputs": [],
   "source": [
    "SELECT * FROM some_players "
   ]
  },
  {
   "cell_type": "code",
   "execution_count": null,
   "metadata": {},
   "outputs": [],
   "source": [
    "drop VIEW some_players; "
   ]
  },
  {
   "cell_type": "markdown",
   "metadata": {},
   "source": [
    "# PROJECT SQL:\n",
    "\n",
    "    1-Open the SQL Manager and create a table called employees to store data of employees.\n",
    "    In the employees table create six columns\n",
    "        employee_id\n",
    "        first_name\n",
    "        last_name\n",
    "        age\n",
    "        job\n",
    "        salary.\n",
    "    Use primary key, not null ans serial constraints.\n",
    "\n",
    "    The employee_id, age and salary columns are int data type, and first_name, last_name and\n",
    "    job are string data type.\n",
    "\n",
    "    2- Let's add data to the employees table, use the insert into statement. Try to add 10 records with values for each\n",
    "    column.\n",
    "    \n",
    "    3- Update the existing table : \n",
    "        Retrieve data using select.\n",
    "        filter the result using where filter the result using having with aggregates functions\n",
    "        create a view special_employees from the employees table and update it.\n",
    "        create a new table called assistants based on the employees table to create acopy if the existing data"
   ]
  },
  {
   "cell_type": "markdown",
   "metadata": {},
   "source": [
    "# Mon projet SQL :\n",
    "\n",
    "    1-Ouvrez le gestionnaire SQL et créez une table appelée employés pour stocker les données des employés.\n",
    "    Dans la table employés, créez six colonnes\n",
    "        employee_id\n",
    "        first_name\n",
    "        last_name\n",
    "        age\n",
    "        job\n",
    "        salary.\n",
    "    Utilisez une clé primaire, pas  de valeurs nulles et des contraintes  en serie.\n",
    "\n",
    "    Les colonnes employee_id, age et salary sont de type de données int, et first_name, last_name et\n",
    "    job sont de type de données string.\n",
    "\n",
    "    2- Ajoutons des données à la table employés, utilisons l'instruction insert into. Essayez d'ajouter 10 enregistrements avec des valeurs pour chaque\n",
    "    colonne.\n",
    "\n",
    "    3- Mettez à jour la table existante :\n",
    "        Récupérez les données à l'aide de select.\n",
    "        Filtrez le résultat à l'aide de where Filtrez le résultat à l'aide de having avec des fonctions d'agrégation\n",
    "        Créez une vue special_employees à partir de la table employés et mettez-la à jour.\n",
    "        Créez une nouvelle table appelée assistants basée sur la table employés pour créer une copie des données existantes"
   ]
  },
  {
   "cell_type": "markdown",
   "metadata": {},
   "source": [
    "#  1-"
   ]
  },
  {
   "cell_type": "code",
   "execution_count": null,
   "metadata": {},
   "outputs": [],
   "source": [
    "CREATE TABLE employees_ro2(\n",
    "employeero_id serial  PRIMARY key  NOT NULL,\n",
    "first_namero VARCHAR(50) not NULL,\n",
    "last_namro VARCHAR(50) NOT NULL,\n",
    "age_ro INT NOT NULL,\n",
    "job_ro VARCHAR(100) NOT NULL,\n",
    "salary_ro INT NOT NULL);"
   ]
  },
  {
   "cell_type": "code",
   "execution_count": null,
   "metadata": {},
   "outputs": [],
   "source": [
    "CREATE TABLE employees_ro1(\n",
    "employeero_id int PRIMARY key  NOT NULL,\n",
    "first_namero VARCHAR(50) not NULL,\n",
    "last_namro VARCHAR(50) NOT NULL,\n",
    "age_ro INT NOT NULL,\n",
    "job_ro VARCHAR(100) NOT NULL,\n",
    "salary_ro INT NOT NULL);"
   ]
  },
  {
   "cell_type": "code",
   "execution_count": null,
   "metadata": {},
   "outputs": [],
   "source": [
    "CREATE TABLE employees_ro2(\n",
    "employeero_id int  NOT NULL,\n",
    "first_namero VARCHAR(50) not NULL,\n",
    "last_namro VARCHAR(50) NOT NULL,\n",
    "age_ro INT NOT NULL,\n",
    "job_ro VARCHAR(100) NOT NULL,\n",
    "salary_ro INT NOT NULL);"
   ]
  },
  {
   "cell_type": "markdown",
   "metadata": {},
   "source": [
    "# 2-"
   ]
  },
  {
   "cell_type": "code",
   "execution_count": null,
   "metadata": {},
   "outputs": [],
   "source": [
    "INSERT INTO employees_ro1(employeero_id,first_namero,last_namro,age_ro,job_ro,salary_ro)\n",
    "VALUES\n",
    "(1,'Celestine','Miakoukila',66,'vendeuse',250),\n",
    "(2,'Guillaume','BOUNAMARI',76,'Docteur',202),\n",
    "(3,'Arnaud Christel','Matondo',49,'pombier aerodrome',1500),\n",
    "(4,'Eric Dave','BOUNAMARI',44,'enseignant pompier',1800),\n",
    "(5,'Ese rucia','Nkouka',38,'charge des clientèles',1900),\n",
    "(6,'Aris Sandra','BOUNAMARI',35,'chauffeur de taxi',200),\n",
    "(7,'Rodolphe', 'BOUNAMARI',29,'Data Analyst',3000),\n",
    "(8,'Rose Marie Mercia', 'BOUNAMARI',25, 'femme daffaire',500),\n",
    "(9,'Rodna', 'BOUNAMARI',10,'Data scientist',300),\n",
    "(10,'Noor', 'BOUNAMARI',5, 'basketball',100);\n"
   ]
  },
  {
   "cell_type": "markdown",
   "metadata": {},
   "source": [
    "# Pour voir les données de  la table"
   ]
  },
  {
   "cell_type": "code",
   "execution_count": null,
   "metadata": {},
   "outputs": [],
   "source": [
    "SELECT *\n",
    "from employees_ro1;"
   ]
  },
  {
   "cell_type": "markdown",
   "metadata": {},
   "source": [
    "# 3-\n",
    "    Mettez à jour la table existante :\n",
    "    a- Récupérez les données à l'aide de select.\n",
    "    b- Filtrez le résultat à l'aide de where \n",
    "    c- Filtrez le résultat à l'aide de having avec des fonctions d'agrégation\n",
    "    d- Créez une vue special_employees à partir de la table employés et mettez-la à jour.\n",
    "    e- Créez une nouvelle table appelée assistants basée sur la table employés pour créer une copie des données existantes\n"
   ]
  },
  {
   "cell_type": "markdown",
   "metadata": {},
   "source": [
    "    a- Récupérez les données à l'aide de select.\n",
    "    "
   ]
  },
  {
   "cell_type": "code",
   "execution_count": null,
   "metadata": {},
   "outputs": [],
   "source": [
    "SELECT *\n",
    "from employees_ro1;"
   ]
  },
  {
   "cell_type": "markdown",
   "metadata": {},
   "source": [
    "    b- Filtrez le résultat à l'aide de where "
   ]
  },
  {
   "cell_type": "code",
   "execution_count": null,
   "metadata": {},
   "outputs": [],
   "source": [
    "SELECT *\n",
    "from employees_ro1\n",
    "where salary_ro >= 200;"
   ]
  },
  {
   "cell_type": "markdown",
   "metadata": {},
   "source": [
    "    c- Filtrez le résultat à l'aide de having avec des fonctions d'agrégation\n",
    "    "
   ]
  },
  {
   "cell_type": "code",
   "execution_count": null,
   "metadata": {},
   "outputs": [],
   "source": [
    "# Having sans fonctions d'aggregation\n",
    "SELECT employeero_id,salary_ro\n",
    "from employees_ro1\n",
    "GROUP by employeero_id, salary_ro\n",
    "HAVING salary_ro < 1800;\n",
    "\n",
    "\n",
    "\n",
    "# Having avec fonctions d'aggregation\n",
    "SELECT COUNT(employeero_id),last_namro\n",
    "from employees_ro1\n",
    "GROUP by employeero_id, last_namro\n",
    "HAVING COUNT(employeero_id) < 12 ;\n"
   ]
  },
  {
   "cell_type": "markdown",
   "metadata": {},
   "source": [
    "    d- Créez une vue special_employees à partir de la table employés et mettez-la à jour.\n",
    "    "
   ]
  },
  {
   "cell_type": "code",
   "execution_count": null,
   "metadata": {},
   "outputs": [],
   "source": [
    "# Creation de la View \n",
    "\n",
    "CREATE VIEW special_employees AS\n",
    "SELECT employeero_id,last_namro,age_ro\n",
    "FROM employees_ro1\n",
    "WHERE age_ro >= 36;\n",
    "\n",
    "# vue de la view \n",
    "select *\n",
    "from special_employees\n",
    "\n",
    "# Mise à  jour de la view creée\n",
    "\n",
    "CREATE  or replace VIEW special_employees AS\n",
    "SELECT employeero_id,last_namro,age_ro\n",
    "FROM employees_ro1\n",
    "WHERE age_ro <= 36;\n",
    "\n",
    "# vue de la view \n",
    "select *\n",
    "from special_employees"
   ]
  },
  {
   "cell_type": "markdown",
   "metadata": {},
   "source": [
    "    e- Créez une nouvelle table appelée assistants basée sur la table employés pour créer une copie des données existantes\n"
   ]
  },
  {
   "cell_type": "code",
   "execution_count": null,
   "metadata": {},
   "outputs": [],
   "source": [
    " CREATE TABLE la_famille_Bounamari\n",
    " AS(\n",
    "   \tSELECT employeero_id ,first_namero, last_namro\n",
    "  \tFROM employees_ro1\n",
    "  \tWHERE last_namro = 'BOUNAMARI'\n",
    " \t);"
   ]
  },
  {
   "cell_type": "code",
   "execution_count": null,
   "metadata": {},
   "outputs": [],
   "source": [
    "  SELECT *\n",
    "    from la_famille_bounamari;"
   ]
  },
  {
   "cell_type": "code",
   "execution_count": null,
   "metadata": {},
   "outputs": [],
   "source": [
    "CREATE TABLE la_famille_MIAKOUKILA\n",
    " AS(\n",
    "   \tSELECT employeero_id ,first_namero, last_namro\n",
    "  \tFROM employees_ro1\n",
    "  \tWHERE last_namro != 'BOUNAMARI'\n",
    " \t);"
   ]
  },
  {
   "cell_type": "code",
   "execution_count": null,
   "metadata": {},
   "outputs": [],
   "source": [
    " SELECT *\n",
    "  from la_famille_MIAKOUKILA;"
   ]
  }
 ],
 "metadata": {
  "kernelspec": {
   "display_name": "Python 3",
   "language": "python",
   "name": "python3"
  },
  "language_info": {
   "codemirror_mode": {
    "name": "ipython",
    "version": 3
   },
   "file_extension": ".py",
   "mimetype": "text/x-python",
   "name": "python",
   "nbconvert_exporter": "python",
   "pygments_lexer": "ipython3",
   "version": "3.10.12"
  }
 },
 "nbformat": 4,
 "nbformat_minor": 2
}
