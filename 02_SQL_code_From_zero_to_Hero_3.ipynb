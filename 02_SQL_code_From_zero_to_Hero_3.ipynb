{
 "cells": [
  {
   "cell_type": "markdown",
   "metadata": {},
   "source": [
    "# Dta Sorting And Conditions "
   ]
  },
  {
   "cell_type": "markdown",
   "metadata": {},
   "source": [
    "## Orders"
   ]
  },
  {
   "cell_type": "code",
   "execution_count": 2,
   "metadata": {},
   "outputs": [
    {
     "data": {
      "text/plain": [
       "'\\n    SQL order by in either ascending or descending order \\n    in ascending order by default.\\n    \\n    select columns1,columns2, columns3, ...\\n    From table_name\\n    order by columns1,columns2, columns3, ...\\n    '"
      ]
     },
     "execution_count": 2,
     "metadata": {},
     "output_type": "execute_result"
    }
   ],
   "source": [
    "# syntax : \n",
    "\"\"\"\n",
    "    SQL order by in either ascending or descending order \n",
    "    in ascending order by default.\n",
    "    \n",
    "    select columns1,columns2, columns3, ...\n",
    "    From table_name\n",
    "    order by columns1,columns2, columns3, ...\n",
    "    \"\"\""
   ]
  },
  {
   "cell_type": "markdown",
   "metadata": {},
   "source": [
    "# Hands-on order by"
   ]
  },
  {
   "cell_type": "code",
   "execution_count": null,
   "metadata": {},
   "outputs": [],
   "source": [
    "CREATE TABLE fruits(\n",
    "  fruit_id serial PRIMARY KEY,\n",
    "  fruit_name VARCHAR(50) not NULL,\n",
    "  fruit_code VARCHAR(10) NOT NULL\n",
    " );SELECT *\n",
    "FROM players01\n",
    "ORDER BY first_name;"
   ]
  },
  {
   "cell_type": "code",
   "execution_count": null,
   "metadata": {},
   "outputs": [],
   "source": [
    "SELECT *\n",
    "FROM players01\n",
    "ORDER BY first_name ASC;"
   ]
  },
  {
   "cell_type": "code",
   "execution_count": null,
   "metadata": {},
   "outputs": [],
   "source": [
    "SELECT *\n",
    "FROM players01\n",
    "ORDER BY first_name DESC;"
   ]
  },
  {
   "cell_type": "code",
   "execution_count": null,
   "metadata": {},
   "outputs": [],
   "source": [
    "SELECT *\n",
    "FROM players01\n",
    "ORDER BY first_name,team DESC"
   ]
  },
  {
   "cell_type": "markdown",
   "metadata": {},
   "source": [
    "# Union"
   ]
  },
  {
   "cell_type": "code",
   "execution_count": 3,
   "metadata": {},
   "outputs": [
    {
     "data": {
      "text/plain": [
       "' \\nselect records\\nfrom two omore table(two or more select statements)\\nselect only distinct values by default.\\n\\nThe columns must also have similar data types and the same order.\\n\\n\\nSyntax : \\nselect column_name(s) from table1\\nUnion\\nselect column_name(s) from table2\\n\\n\\nunion all select all to duplicate values\\n\\nSyntax : \\nselect column_name(s) from table1\\nUnion All\\nselect column_name(s) from table2\\n'"
      ]
     },
     "execution_count": 3,
     "metadata": {},
     "output_type": "execute_result"
    }
   ],
   "source": [
    "# SQL Union  and Union all: \n",
    "\"\"\" \n",
    "select records\n",
    "from two omore table(two or more select statements)\n",
    "select only distinct values by default.\n",
    "\n",
    "The columns must also have similar data types and the same order.\n",
    "\n",
    "\n",
    "Syntax : \n",
    "select column_name(s) from table1\n",
    "Union\n",
    "select column_name(s) from table2\n",
    "\n",
    "\n",
    "union all select all to duplicate values\n",
    "\n",
    "Syntax : \n",
    "select column_name(s) from table1\n",
    "Union All\n",
    "select column_name(s) from table2\n",
    "\"\"\"\n",
    "\n"
   ]
  },
  {
   "cell_type": "code",
   "execution_count": null,
   "metadata": {},
   "outputs": [],
   "source": [
    "SELECT employee_id AS union_employee\n",
    "from employees\n",
    "UNION\n",
    "SELECT player_id\n",
    "FROM players01;"
   ]
  },
  {
   "cell_type": "code",
   "execution_count": null,
   "metadata": {},
   "outputs": [],
   "source": [
    "SELECT employee_id AS union_employee\n",
    "from employees\n",
    "UNION ALL\n",
    "SELECT player_id\n",
    "FROM players01;"
   ]
  },
  {
   "cell_type": "markdown",
   "metadata": {},
   "source": [
    "# Any and All"
   ]
  },
  {
   "cell_type": "markdown",
   "metadata": {},
   "source": [
    "# Any"
   ]
  },
  {
   "cell_type": "code",
   "execution_count": null,
   "metadata": {},
   "outputs": [],
   "source": [
    "SELECT *\n",
    "from players01\n",
    "WHERE player_id = ANY(\n",
    "  SELECT employee_id\n",
    "  from employees\n",
    "  );"
   ]
  },
  {
   "cell_type": "markdown",
   "metadata": {},
   "source": [
    "# All"
   ]
  },
  {
   "cell_type": "code",
   "execution_count": null,
   "metadata": {},
   "outputs": [],
   "source": [
    "SELECT all first_name\n",
    "FROM players01\n",
    "WHERE TRUE;"
   ]
  },
  {
   "cell_type": "code",
   "execution_count": null,
   "metadata": {},
   "outputs": [],
   "source": [
    "SELECT all last_name\n",
    "FROM players01\n",
    "WHERE TRUE;"
   ]
  },
  {
   "cell_type": "markdown",
   "metadata": {},
   "source": [
    "# All With two tables exemple 2 Hands-on"
   ]
  },
  {
   "cell_type": "code",
   "execution_count": null,
   "metadata": {},
   "outputs": [],
   "source": [
    "SELECT all last_name\n",
    "FROM players01\n",
    "WHERE player_id = 3;"
   ]
  },
  {
   "cell_type": "code",
   "execution_count": null,
   "metadata": {},
   "outputs": [],
   "source": [
    "SELECT first_name\n",
    "from players01\n",
    "where player_id > all(\n",
    "  SELECT employee_id\n",
    "  from employees\n",
    "  WHERE employee_id = 7\n",
    "  );"
   ]
  },
  {
   "cell_type": "code",
   "execution_count": null,
   "metadata": {},
   "outputs": [],
   "source": [
    "SELECT player_id, first_name\n",
    "from players01\n",
    "where player_id > all(\n",
    "  SELECT employee_id\n",
    "  from employees\n",
    "  WHERE employee_id = 7\n",
    "  );"
   ]
  },
  {
   "cell_type": "code",
   "execution_count": null,
   "metadata": {},
   "outputs": [],
   "source": [
    "SELECT player_id, first_name\n",
    "from players01\n",
    "where player_id <all(\n",
    "  SELECT employee_id\n",
    "  from employees\n",
    "  WHERE employee_id = 7\n",
    "  );"
   ]
  },
  {
   "cell_type": "code",
   "execution_count": null,
   "metadata": {},
   "outputs": [],
   "source": [
    " SELECT player_id, first_name\n",
    "from players01\n",
    "where player_id = all(\n",
    "  SELECT employee_id\n",
    "  from employees\n",
    "  WHERE employee_id = 7\n",
    "  );"
   ]
  },
  {
   "cell_type": "markdown",
   "metadata": {},
   "source": [
    "# Group By"
   ]
  },
  {
   "cell_type": "markdown",
   "metadata": {},
   "source": [
    "# Hands on group by "
   ]
  },
  {
   "cell_type": "code",
   "execution_count": null,
   "metadata": {},
   "outputs": [],
   "source": [
    "SELECT team, COUNT(*) as T_number\n",
    "  from players01\n",
    "  GROUP by team;"
   ]
  },
  {
   "cell_type": "code",
   "execution_count": null,
   "metadata": {},
   "outputs": [],
   "source": [
    " SELECT team, min(rating) as min_rating\n",
    "  from players01\n",
    "  GROUP BY team;"
   ]
  },
  {
   "cell_type": "code",
   "execution_count": null,
   "metadata": {},
   "outputs": [],
   "source": [
    "SELECT team, MAX(rating) as max_rating\n",
    "  from players01\n",
    "  GROUP BY team;"
   ]
  },
  {
   "cell_type": "markdown",
   "metadata": {},
   "source": [
    "# Having Clause"
   ]
  },
  {
   "cell_type": "markdown",
   "metadata": {},
   "source": [
    "# Use having clause to filter data hands-on"
   ]
  },
  {
   "cell_type": "code",
   "execution_count": null,
   "metadata": {},
   "outputs": [],
   "source": [
    "SELECT player_id,rating\n",
    "FROM players01\n",
    "GROUP by player_id, rating\n",
    "HAVING rating > 90;"
   ]
  },
  {
   "cell_type": "code",
   "execution_count": null,
   "metadata": {},
   "outputs": [],
   "source": [
    "SELECT player_id,rating\n",
    "FROM players01\n",
    "GROUP by player_id, rating\n",
    "HAVING rating < 90;"
   ]
  },
  {
   "cell_type": "code",
   "execution_count": null,
   "metadata": {},
   "outputs": [],
   "source": [
    "SELECT COUNT(player_id), team\n",
    "FROM players01\n",
    "GROUP by team\n",
    "HAVING COUNT(player_id) > 1;"
   ]
  },
  {
   "cell_type": "markdown",
   "metadata": {},
   "source": [
    "# Hands -on LIKE and Wildcards"
   ]
  },
  {
   "cell_type": "code",
   "execution_count": null,
   "metadata": {},
   "outputs": [],
   "source": [
    "SELECT * from players01\n",
    "WHERE first_name LIKE 'M%';"
   ]
  },
  {
   "cell_type": "code",
   "execution_count": null,
   "metadata": {},
   "outputs": [],
   "source": [
    "SELECT * from players01\n",
    "WHERE first_name LIKE '%a%';"
   ]
  },
  {
   "cell_type": "code",
   "execution_count": null,
   "metadata": {},
   "outputs": [],
   "source": [
    "\n",
    "SELECT * from players01\n",
    "WHERE first_name LIKE '%d';"
   ]
  },
  {
   "cell_type": "code",
   "execution_count": null,
   "metadata": {},
   "outputs": [],
   "source": [
    "SELECT * from players01\n",
    "WHERE first_name LIKE '_o%';"
   ]
  },
  {
   "cell_type": "code",
   "execution_count": null,
   "metadata": {},
   "outputs": [],
   "source": [
    "SELECT * from players01\n",
    "WHERE first_name LIKE '_o%';"
   ]
  },
  {
   "cell_type": "markdown",
   "metadata": {},
   "source": [
    "# Case Statement"
   ]
  },
  {
   "cell_type": "code",
   "execution_count": null,
   "metadata": {},
   "outputs": [],
   "source": [
    "\n",
    "SELECT player_id,rating,\n",
    "Case \n",
    "\tWhen rating > 90 THEN  'Excellent rating'\n",
    "    When rating =  90 THEN 'Very Good rating'\n",
    "    ELSE 'Good rating!!'\n",
    "End AS rate_notes\n",
    "FROM players01;"
   ]
  }
 ],
 "metadata": {
  "kernelspec": {
   "display_name": "Python 3",
   "language": "python",
   "name": "python3"
  },
  "language_info": {
   "codemirror_mode": {
    "name": "ipython",
    "version": 3
   },
   "file_extension": ".py",
   "mimetype": "text/x-python",
   "name": "python",
   "nbconvert_exporter": "python",
   "pygments_lexer": "ipython3",
   "version": "3.10.12"
  }
 },
 "nbformat": 4,
 "nbformat_minor": 2
}
